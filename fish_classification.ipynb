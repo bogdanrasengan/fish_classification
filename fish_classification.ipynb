{
 "cells": [
  {
   "cell_type": "markdown",
   "metadata": {},
   "source": [
    "# Dataset - https://www.kaggle.com/jasmeetkaur/fishdataset"
   ]
  },
  {
   "cell_type": "code",
   "execution_count": 29,
   "metadata": {},
   "outputs": [],
   "source": [
    "import os\n",
    "import random\n",
    "import warnings\n",
    "import numpy as np\n",
    "import pandas as pd\n",
    "from PIL import Image\n",
    "import tensorflow as tf\n",
    "import matplotlib.pyplot as plt\n",
    "warnings.filterwarnings('ignore')\n",
    "from tensorflow.keras import datasets, layers, models, utils"
   ]
  },
  {
   "cell_type": "markdown",
   "metadata": {},
   "source": [
    "\n",
    "### Let's create: \n",
    "> 1) List with fish names.\\\n",
    "> 2) Dictionary where the key is the fish name, and the value is the list with the paths to pictures of this fish.\\\n",
    "> 3) Dictionary where the key is the fish name, and the value is the number of pictures of that fish."
   ]
  },
  {
   "cell_type": "code",
   "execution_count": 30,
   "metadata": {},
   "outputs": [],
   "source": [
    "fish_list = os.listdir('FishDataset')\n",
    "img_paths = {fish : [f'FishDataset/{fish}/' + i for i in os.listdir(f\"FishDataset/{fish}\")] \n",
    "                                                                    for fish in fish_list}\n",
    "lengths = {fish : len(img_paths[fish]) for fish in fish_list}"
   ]
  },
  {
   "cell_type": "markdown",
   "metadata": {},
   "source": [
    "### To begin with, let's bring all images to a ratio of 1 to 1 by cutting out the maximum square in the center and to one resolution. Let's write a function for that."
   ]
  },
  {
   "cell_type": "code",
   "execution_count": 31,
   "metadata": {},
   "outputs": [],
   "source": [
    "def crop_resize(img):\n",
    "    width, height = img.size\n",
    "    if width > height:\n",
    "        new_width = height\n",
    "        new_height = height\n",
    "    else: \n",
    "        new_width = width\n",
    "        new_height = width\n",
    "    left = (width - new_width)/2\n",
    "    top = (height - new_height)/2\n",
    "    right = (width + new_width)/2\n",
    "    bottom = (height + new_height)/2\n",
    "    return img.crop((left, top, right, bottom)).resize((100,100))"
   ]
  },
  {
   "cell_type": "markdown",
   "metadata": {},
   "source": [
    "### Next, apply our function to all images on the dataset, iterating by fish species and by path for each species."
   ]
  },
  {
   "cell_type": "code",
   "execution_count": 32,
   "metadata": {},
   "outputs": [],
   "source": [
    "for fish in fish_list:\n",
    "    for path in img_path[fish]:\n",
    "        try:\n",
    "            image = Image.open(path)\n",
    "            image = crop_resize(image)\n",
    "            image.save(path)\n",
    "        except:\n",
    "            os.remove(path)"
   ]
  },
  {
   "cell_type": "markdown",
   "metadata": {},
   "source": [
    "### Let's re-create the paths because the images with the wrong format were removed"
   ]
  },
  {
   "cell_type": "code",
   "execution_count": 33,
   "metadata": {},
   "outputs": [],
   "source": [
    "img_path = {fish : [f'FishDataset/{fish}/' + i for i in os.listdir(f\"FishDataset/{fish}\")] \n",
    "                                                                    for fish in fish_list}\n",
    "lengths_new = {fish : len(os.listdir(f'FishDataset/{fish}')) for fish in fish_list}"
   ]
  },
  {
   "cell_type": "code",
   "execution_count": 34,
   "metadata": {},
   "outputs": [
    {
     "data": {
      "text/plain": [
       "{'ArcticCharFish': 945,\n",
       " 'Red-snapper': 412,\n",
       " 'SardineFish': 953,\n",
       " 'TilapiaFish': 1044,\n",
       " 'bassfish': 1158,\n",
       " 'catfish': 521,\n",
       " 'haddockfish': 857,\n",
       " 'salmon': 1181,\n",
       " 'swordfish': 1162,\n",
       " 'tuna': 1284}"
      ]
     },
     "execution_count": 34,
     "metadata": {},
     "output_type": "execute_result"
    }
   ],
   "source": [
    "lengths_new"
   ]
  },
  {
   "cell_type": "markdown",
   "metadata": {},
   "source": [
    "### We equalize the classes so that it would be easier to evaluate the model. That way we can use accuracy metric. The random result in this case will be 10%, because we will have 10 equal classes."
   ]
  },
  {
   "cell_type": "code",
   "execution_count": 35,
   "metadata": {},
   "outputs": [],
   "source": [
    "for fish in fish_list:\n",
    "    img_path[fish] = img_path[fish][:400]"
   ]
  },
  {
   "cell_type": "markdown",
   "metadata": {},
   "source": [
    "### Each picture is an array of dimensions (100, 100, 1), with elements of type int taking values between 0 and 255 if the image is greyscale. Or with dimensions (100, 100, 3) if the image is color(RGB). We are going to get these arrays for color images  and normalize them by dividing by 255."
   ]
  },
  {
   "cell_type": "code",
   "execution_count": 36,
   "metadata": {},
   "outputs": [],
   "source": [
    "pixel_representaion = {}\n",
    "for fish in fish_list:\n",
    "    pixel_representations_for_current_fish = []\n",
    "    for img in img_path[fish]:\n",
    "        try:\n",
    "            pixels = np.asarray(Image.open(img).convert('RGB')) / 255.0\n",
    "            pixel_representations_for_current_fish.append(pixels)\n",
    "        except:\n",
    "            continue\n",
    "    pixel_representaion[fish] = pixel_representations_for_current_fish"
   ]
  },
  {
   "cell_type": "code",
   "execution_count": 47,
   "metadata": {},
   "outputs": [
    {
     "data": {
      "text/plain": [
       "array([[[0.69411765, 0.70588235, 0.90588235],\n",
       "        [0.71764706, 0.72941176, 0.92941176],\n",
       "        [0.6627451 , 0.6745098 , 0.88235294],\n",
       "        ...,\n",
       "        [0.8627451 , 0.89019608, 0.92156863],\n",
       "        [0.90196078, 0.92941176, 0.96078431],\n",
       "        [0.90196078, 0.92941176, 0.96078431]],\n",
       "\n",
       "       [[0.63137255, 0.64313725, 0.84313725],\n",
       "        [0.66666667, 0.67843137, 0.87843137],\n",
       "        [0.63529412, 0.64705882, 0.85490196],\n",
       "        ...,\n",
       "        [0.96862745, 0.99215686, 1.        ],\n",
       "        [0.97254902, 0.99607843, 1.        ],\n",
       "        [0.96078431, 0.98431373, 1.        ]],\n",
       "\n",
       "       [[0.57647059, 0.58823529, 0.79607843],\n",
       "        [0.61960784, 0.63137255, 0.83921569],\n",
       "        [0.60784314, 0.61960784, 0.82745098],\n",
       "        ...,\n",
       "        [0.86666667, 0.88627451, 0.97254902],\n",
       "        [0.83137255, 0.85098039, 0.9372549 ],\n",
       "        [0.81176471, 0.83137255, 0.91764706]],\n",
       "\n",
       "       ...,\n",
       "\n",
       "       [[0.09019608, 0.14901961, 0.30980392],\n",
       "        [0.08235294, 0.14117647, 0.29411765],\n",
       "        [0.07058824, 0.12941176, 0.28235294],\n",
       "        ...,\n",
       "        [0.16470588, 0.42352941, 0.71372549],\n",
       "        [0.16470588, 0.42352941, 0.71372549],\n",
       "        [0.16470588, 0.42352941, 0.71372549]],\n",
       "\n",
       "       [[0.07058824, 0.12941176, 0.29019608],\n",
       "        [0.0627451 , 0.12156863, 0.2745098 ],\n",
       "        [0.05490196, 0.11372549, 0.26666667],\n",
       "        ...,\n",
       "        [0.16470588, 0.42352941, 0.71372549],\n",
       "        [0.16470588, 0.42352941, 0.71372549],\n",
       "        [0.16470588, 0.42352941, 0.71372549]],\n",
       "\n",
       "       [[0.0745098 , 0.13333333, 0.29411765],\n",
       "        [0.06666667, 0.1254902 , 0.27843137],\n",
       "        [0.05882353, 0.11764706, 0.27058824],\n",
       "        ...,\n",
       "        [0.16078431, 0.41960784, 0.70980392],\n",
       "        [0.16078431, 0.41960784, 0.70980392],\n",
       "        [0.16078431, 0.41960784, 0.70980392]]])"
      ]
     },
     "execution_count": 47,
     "metadata": {},
     "output_type": "execute_result"
    }
   ],
   "source": [
    "pixel_representaion['tuna'][0]"
   ]
  },
  {
   "cell_type": "code",
   "execution_count": 48,
   "metadata": {},
   "outputs": [
    {
     "data": {
      "text/plain": [
       "(100, 100, 3)"
      ]
     },
     "execution_count": 48,
     "metadata": {},
     "output_type": "execute_result"
    }
   ],
   "source": [
    "pixel_representaion['tuna'][0].shape"
   ]
  },
  {
   "cell_type": "markdown",
   "metadata": {},
   "source": [
    "### Finally, let's move on to filling in the dataset and splitting it into training and test samples."
   ]
  },
  {
   "cell_type": "code",
   "execution_count": 49,
   "metadata": {},
   "outputs": [],
   "source": [
    "data = []\n",
    "for fish in fish_list:\n",
    "    for img in pixel_representaion[fish]:\n",
    "        data.append([img, fish])\n",
    "random.shuffle(data)\n",
    "\n",
    "X = np.array([i[0] for i in data])\n",
    "y = np.array([i[1] for i in data])\n"
   ]
  },
  {
   "cell_type": "code",
   "execution_count": 50,
   "metadata": {},
   "outputs": [
    {
     "data": {
      "text/plain": [
       "(4000, 100, 100, 3)"
      ]
     },
     "execution_count": 50,
     "metadata": {},
     "output_type": "execute_result"
    }
   ],
   "source": [
    "X.shape"
   ]
  },
  {
   "cell_type": "code",
   "execution_count": 51,
   "metadata": {},
   "outputs": [],
   "source": [
    "fish_list_dir = {fish_list[i]: i for i in range(len(fish_list))}\n",
    "y = np.array([fish_list_dir[i] for i in y])\n",
    "\n",
    "train_X, train_y = X[:3600], y[:3600]\n",
    "test_X, test_y = X[3600:], y[3600:]"
   ]
  },
  {
   "cell_type": "markdown",
   "metadata": {},
   "source": [
    "### We will build a convolutionary neural network for classificate our fishes and train it."
   ]
  },
  {
   "cell_type": "code",
   "execution_count": 53,
   "metadata": {},
   "outputs": [],
   "source": [
    "model = models.Sequential()\n",
    "model.add(layers.Conv2D(32, (3, 3), activation='relu', input_shape=(100,100,3)))\n",
    "model.add(layers.MaxPooling2D((2, 2)))\n",
    "model.add(layers.Conv2D(64, (3, 3), activation='relu'))\n",
    "model.add(layers.MaxPooling2D((2, 2)))\n",
    "model.add(layers.Conv2D(64, (3, 3), activation='relu'))\n",
    "\n",
    "model.add(layers.Flatten())\n",
    "model.add(layers.Dense(64, activation='relu'))\n",
    "model.add(layers.Dense(10))\n",
    "\n",
    "model.compile(optimizer='adam',\n",
    "              loss=tf.keras.losses.SparseCategoricalCrossentropy(from_logits=True),\n",
    "              metrics=['accuracy'])"
   ]
  },
  {
   "cell_type": "code",
   "execution_count": 54,
   "metadata": {},
   "outputs": [
    {
     "name": "stdout",
     "output_type": "stream",
     "text": [
      "Train on 3600 samples, validate on 400 samples\n",
      "Epoch 1/40\n",
      "3600/3600 [==============================] - 71s 20ms/sample - loss: 2.2916 - accuracy: 0.1189 - val_loss: 2.1852 - val_accuracy: 0.1350\n",
      "Epoch 2/40\n",
      "3600/3600 [==============================] - 47s 13ms/sample - loss: 2.1407 - accuracy: 0.2072 - val_loss: 2.0643 - val_accuracy: 0.2375\n",
      "Epoch 3/40\n",
      "3600/3600 [==============================] - 52s 15ms/sample - loss: 2.0041 - accuracy: 0.2925 - val_loss: 1.9636 - val_accuracy: 0.2550\n",
      "Epoch 4/40\n",
      "3600/3600 [==============================] - 51s 14ms/sample - loss: 1.8349 - accuracy: 0.3592 - val_loss: 1.8535 - val_accuracy: 0.3450\n",
      "Epoch 5/40\n",
      "3600/3600 [==============================] - 53s 15ms/sample - loss: 1.6005 - accuracy: 0.4414 - val_loss: 1.8624 - val_accuracy: 0.3925\n",
      "Epoch 6/40\n",
      "3600/3600 [==============================] - 53s 15ms/sample - loss: 1.2127 - accuracy: 0.5950 - val_loss: 2.0421 - val_accuracy: 0.3975\n",
      "Epoch 7/40\n",
      "3600/3600 [==============================] - 53s 15ms/sample - loss: 0.8214 - accuracy: 0.7283 - val_loss: 2.2876 - val_accuracy: 0.4200\n",
      "Epoch 8/40\n",
      "3600/3600 [==============================] - 54s 15ms/sample - loss: 0.4522 - accuracy: 0.8519 - val_loss: 2.5870 - val_accuracy: 0.4500\n",
      "Epoch 9/40\n",
      "3600/3600 [==============================] - 55s 15ms/sample - loss: 0.2250 - accuracy: 0.9342 - val_loss: 3.1181 - val_accuracy: 0.4875\n",
      "Epoch 10/40\n",
      "3600/3600 [==============================] - 54s 15ms/sample - loss: 0.1381 - accuracy: 0.9625 - val_loss: 3.5986 - val_accuracy: 0.5000\n",
      "Epoch 11/40\n",
      "3600/3600 [==============================] - 55s 15ms/sample - loss: 0.0710 - accuracy: 0.9856 - val_loss: 3.8938 - val_accuracy: 0.4875\n",
      "Epoch 12/40\n",
      "3600/3600 [==============================] - 51s 14ms/sample - loss: 0.0584 - accuracy: 0.9858 - val_loss: 3.9067 - val_accuracy: 0.4950\n",
      "Epoch 13/40\n",
      "3600/3600 [==============================] - 53s 15ms/sample - loss: 0.0509 - accuracy: 0.9897 - val_loss: 4.2018 - val_accuracy: 0.4975\n",
      "Epoch 14/40\n",
      "3600/3600 [==============================] - 56s 15ms/sample - loss: 0.0712 - accuracy: 0.9853 - val_loss: 4.0950 - val_accuracy: 0.5000\n",
      "Epoch 15/40\n",
      "3600/3600 [==============================] - 56s 15ms/sample - loss: 0.0552 - accuracy: 0.9872 - val_loss: 4.8508 - val_accuracy: 0.5000\n",
      "Epoch 16/40\n",
      "3600/3600 [==============================] - 55s 15ms/sample - loss: 0.0567 - accuracy: 0.9853 - val_loss: 4.5716 - val_accuracy: 0.5075\n",
      "Epoch 17/40\n",
      "3600/3600 [==============================] - 60s 17ms/sample - loss: 0.0425 - accuracy: 0.9881 - val_loss: 4.9387 - val_accuracy: 0.4675\n",
      "Epoch 18/40\n",
      "3600/3600 [==============================] - 56s 15ms/sample - loss: 0.0403 - accuracy: 0.9933 - val_loss: 4.8034 - val_accuracy: 0.5050\n",
      "Epoch 19/40\n",
      "3600/3600 [==============================] - 64s 18ms/sample - loss: 0.0201 - accuracy: 0.9975 - val_loss: 4.8085 - val_accuracy: 0.5200\n",
      "Epoch 20/40\n",
      "3600/3600 [==============================] - 65s 18ms/sample - loss: 0.0179 - accuracy: 0.9978 - val_loss: 4.7899 - val_accuracy: 0.5175\n",
      "Epoch 21/40\n",
      "3600/3600 [==============================] - 68s 19ms/sample - loss: 0.0086 - accuracy: 0.9989 - val_loss: 4.8985 - val_accuracy: 0.5325\n",
      "Epoch 22/40\n",
      "3600/3600 [==============================] - 59s 16ms/sample - loss: 0.0096 - accuracy: 0.9989 - val_loss: 4.7782 - val_accuracy: 0.5150\n",
      "Epoch 23/40\n",
      "3600/3600 [==============================] - 56s 15ms/sample - loss: 0.0086 - accuracy: 0.9986 - val_loss: 4.8966 - val_accuracy: 0.5225\n",
      "Epoch 24/40\n",
      "3600/3600 [==============================] - 56s 16ms/sample - loss: 0.0074 - accuracy: 0.9983 - val_loss: 4.8749 - val_accuracy: 0.5150\n",
      "Epoch 25/40\n",
      "3600/3600 [==============================] - 59s 16ms/sample - loss: 0.0077 - accuracy: 0.9981 - val_loss: 4.9302 - val_accuracy: 0.5175\n",
      "Epoch 26/40\n",
      "3600/3600 [==============================] - 60s 17ms/sample - loss: 0.0112 - accuracy: 0.9978 - val_loss: 5.1148 - val_accuracy: 0.5225\n",
      "Epoch 27/40\n",
      "3600/3600 [==============================] - 58s 16ms/sample - loss: 0.0110 - accuracy: 0.9975 - val_loss: 4.8947 - val_accuracy: 0.5275\n",
      "Epoch 28/40\n",
      "3600/3600 [==============================] - 55s 15ms/sample - loss: 0.0236 - accuracy: 0.9944 - val_loss: 4.8313 - val_accuracy: 0.5150\n",
      "Epoch 29/40\n",
      "3600/3600 [==============================] - 54s 15ms/sample - loss: 0.1130 - accuracy: 0.9708 - val_loss: 5.3960 - val_accuracy: 0.4625\n",
      "Epoch 30/40\n",
      "3600/3600 [==============================] - 54s 15ms/sample - loss: 0.1652 - accuracy: 0.9528 - val_loss: 4.5242 - val_accuracy: 0.4800\n",
      "Epoch 31/40\n",
      "3600/3600 [==============================] - 54s 15ms/sample - loss: 0.0757 - accuracy: 0.9786 - val_loss: 4.9808 - val_accuracy: 0.5125\n",
      "Epoch 32/40\n",
      "3600/3600 [==============================] - 55s 15ms/sample - loss: 0.0204 - accuracy: 0.9953 - val_loss: 5.0927 - val_accuracy: 0.5225\n",
      "Epoch 33/40\n",
      "3600/3600 [==============================] - 54s 15ms/sample - loss: 0.0071 - accuracy: 0.9981 - val_loss: 5.1849 - val_accuracy: 0.5175\n",
      "Epoch 34/40\n",
      "3600/3600 [==============================] - 54s 15ms/sample - loss: 0.0052 - accuracy: 0.9981 - val_loss: 5.3048 - val_accuracy: 0.5200\n",
      "Epoch 35/40\n",
      "3600/3600 [==============================] - 55s 15ms/sample - loss: 0.0057 - accuracy: 0.9986 - val_loss: 5.2805 - val_accuracy: 0.5075\n",
      "Epoch 36/40\n",
      "3600/3600 [==============================] - 55s 15ms/sample - loss: 0.0085 - accuracy: 0.9983 - val_loss: 5.1571 - val_accuracy: 0.5225\n",
      "Epoch 37/40\n",
      "3600/3600 [==============================] - 54s 15ms/sample - loss: 0.0061 - accuracy: 0.9981 - val_loss: 5.2165 - val_accuracy: 0.5175\n",
      "Epoch 38/40\n",
      "3600/3600 [==============================] - 54s 15ms/sample - loss: 0.0040 - accuracy: 0.9983 - val_loss: 5.2977 - val_accuracy: 0.5150\n",
      "Epoch 39/40\n",
      "3600/3600 [==============================] - 54s 15ms/sample - loss: 0.0052 - accuracy: 0.9981 - val_loss: 5.1614 - val_accuracy: 0.5175\n",
      "Epoch 40/40\n",
      "3600/3600 [==============================] - 55s 15ms/sample - loss: 0.0051 - accuracy: 0.9983 - val_loss: 5.1067 - val_accuracy: 0.5225\n"
     ]
    }
   ],
   "source": [
    "history = model.fit(train_X, train_y, epochs=40, \n",
    "                    validation_data=(test_X, test_y))"
   ]
  },
  {
   "cell_type": "code",
   "execution_count": 55,
   "metadata": {},
   "outputs": [],
   "source": [
    "def plot_his(key, history):\n",
    "    fig, (ax1, ax2) = plt.subplots(ncols=2, nrows = 1, figsize = (18, 6))\n",
    "    ax1.plot(range(len(history.history[key])), history.history[key], c='b')\n",
    "    ax1.set_xlabel('epochs', fontsize=18)\n",
    "    ax1.set_ylabel(f'train_{key}', fontsize=18)\n",
    "    ax2.plot(range(len(history.history[f'val_{key}'])), history.history[f'val_{key}'], c='b')\n",
    "    ax2.set_xlabel('epochs', fontsize=18)\n",
    "    ax2.set_ylabel(f'test_{key}', fontsize=18)"
   ]
  },
  {
   "cell_type": "code",
   "execution_count": 57,
   "metadata": {},
   "outputs": [
    {
     "data": {
      "image/png": "[encoded data removed]",
      "text/plain": [
       "<Figure size 1296x432 with 2 Axes>"
      ]
     },
     "metadata": {},
     "output_type": "display_data"
    },
    {
     "data": {
      "image/png": "[encoded data removed]",
      "text/plain": [
       "<Figure size 1296x432 with 2 Axes>"
      ]
     },
     "metadata": {},
     "output_type": "display_data"
    }
   ],
   "source": [
    "plot_his('accuracy', history)\n",
    "plot_his('loss', history)"
   ]
  }
 ],
 "metadata": {
  "kernelspec": {
   "display_name": "Python 3",
   "language": "python",
   "name": "python3"
  },
  "language_info": {
   "codemirror_mode": {
    "name": "ipython",
    "version": 3
   },
   "file_extension": ".py",
   "mimetype": "text/x-python",
   "name": "python",
   "nbconvert_exporter": "python",
   "pygments_lexer": "ipython3",
   "version": "3.6.9"
  }
 },
 "nbformat": 4,
 "nbformat_minor": 4
}
